{
 "cells": [
  {
   "cell_type": "markdown",
   "metadata": {},
   "source": [
    "Create a Tic Tac Toe game. You are free to use any IDE you like.\n",
    "\n",
    "Here are the requirements:\n",
    "\n",
    "2 players should be able to play the game (both sitting at the same computer)\n",
    "The board should be printed out every time a player makes a move\n",
    "You should be able to accept input of the player position and then place a symbol on the board"
   ]
  },
  {
   "cell_type": "code",
   "execution_count": 13,
   "metadata": {},
   "outputs": [],
   "source": [
    "from IPython.display import clear_output\n",
    "\n",
    "class Game:\n",
    "    player = 'X'\n",
    "    def getPlayerChoice():\n",
    "        print(\"Welcome to Tic Tac Toe\")\n",
    "        player1 = input(\"Please pick a marker 'X' or 'O'\")\n",
    "\n",
    "        while(not player1.isalpha() or not (player1.upper() == 'X' or player1.upper() == 'O')):\n",
    "                print(\"Invalid Input. Kindly input either 'X' or 'O'.\")\n",
    "                player1 = input(\"Please pick a marker 'X' or 'O'\")\n",
    "        \n",
    "        board = [1, 2, 3, 4, 5, 6, 7, 8, 9]\n",
    "        Game.displayBoard(board)\n",
    "        print()\n",
    "        player = player1\n",
    "        return player\n",
    "    \n",
    "    def tictactoe():\n",
    "        board = ['-']*9\n",
    "\n",
    "        playFlag = True\n",
    "        global player\n",
    "        player = Game.getPlayerChoice()\n",
    "        while(playFlag):\n",
    "            board = Game.getPlayerInputs(board)\n",
    "            Game.displayBoard(board)\n",
    "            if(Game.wincheck(board)):\n",
    "                playFlag = False\n",
    "            if(not Game.TieCheck(board)):\n",
    "                playFlag = False\n",
    "        Game.replay()\n",
    "\n",
    "    def replay():\n",
    "        replayChoice = input(\"Do you want to play again (Y/N)\")\n",
    "        if(replayChoice.upper() == 'Y'):\n",
    "            clear_output()\n",
    "            Game.tictactoe()\n",
    "        else:\n",
    "            exit\n",
    "\n",
    "    def TieCheck(board):\n",
    "        for item in board:\n",
    "            if(item == '-'):\n",
    "                return True\n",
    "\n",
    "        print(\"Games is tied\")\n",
    "\n",
    "        return False\n",
    "\n",
    "    def wincheck(board):\n",
    "        winboard = [[0,1,2],[0,3,6],[1,4,7],[2,5,8],[3,4,5],[6,7,8],[0,4,8],[2,4,6]]\n",
    "\n",
    "        for arr in winboard:\n",
    "            if((board[arr[0]] == board[arr[1]] == board[arr[2]]) and board[arr[0]] != '-'):\n",
    "                print()\n",
    "                print(\"Player\", board[arr[0]]+ \" won\")\n",
    "                return True\n",
    "\n",
    "        return False\n",
    "\n",
    "    def getPlayerInputs(board):\n",
    "        global player\n",
    "        print(\"Player with choice\",player+\"'s turn...\")\n",
    "        playerInput = input(\"Enter the position(1-9):\")\n",
    "        \n",
    "        # Validate Player Position\n",
    "        while(playerInput.isalpha() or int(playerInput) <1 or int(playerInput) >9 or (board[int(playerInput)-1] != '-')):\n",
    "            print(\"Invalid Position, select an unoccupied position or position between (1-9).\")\n",
    "            playerInput = input(\"Enter the position(1-9):\")\n",
    "\n",
    "        board[int(playerInput)-1] = player.upper();\n",
    "        if(player.upper() == 'X'):\n",
    "            player = 'O'\n",
    "        else:\n",
    "            player = 'X'\n",
    "        return board\n",
    "\n",
    "    def displayBoard(board):\n",
    "        clear_output()\n",
    "        count = 0\n",
    "        for item in board:\n",
    "            if (count%3 == 0):\n",
    "                print ('', end=\"\\n\")\n",
    "            print (item, end=\" \")\n",
    "            count +=1\n",
    "        print()\n"
   ]
  },
  {
   "cell_type": "code",
   "execution_count": null,
   "metadata": {},
   "outputs": [
    {
     "name": "stdout",
     "output_type": "stream",
     "text": [
      "Welcome to Tic Tac Toe\n"
     ]
    }
   ],
   "source": [
    "Game.tictactoe()"
   ]
  },
  {
   "cell_type": "code",
   "execution_count": null,
   "metadata": {},
   "outputs": [],
   "source": [
    "\n"
   ]
  },
  {
   "cell_type": "code",
   "execution_count": null,
   "metadata": {},
   "outputs": [],
   "source": []
  }
 ],
 "metadata": {
  "kernelspec": {
   "display_name": "Python 3",
   "language": "python",
   "name": "python3"
  },
  "language_info": {
   "codemirror_mode": {
    "name": "ipython",
    "version": 3
   },
   "file_extension": ".py",
   "mimetype": "text/x-python",
   "name": "python",
   "nbconvert_exporter": "python",
   "pygments_lexer": "ipython3",
   "version": "3.7.0"
  }
 },
 "nbformat": 4,
 "nbformat_minor": 2
}
